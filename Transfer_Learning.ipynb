{
  "nbformat": 4,
  "nbformat_minor": 0,
  "metadata": {
    "colab": {
      "provenance": [],
      "gpuType": "T4"
    },
    "kernelspec": {
      "name": "python3",
      "display_name": "Python 3"
    },
    "language_info": {
      "name": "python"
    },
    "accelerator": "GPU"
  },
  "cells": [
    {
      "cell_type": "code",
      "execution_count": 35,
      "metadata": {
        "colab": {
          "base_uri": "https://localhost:8080/"
        },
        "id": "fCbbpFMokQC8",
        "outputId": "6603475f-54aa-4226-9246-e53ddf7be937"
      },
      "outputs": [
        {
          "output_type": "stream",
          "name": "stdout",
          "text": [
            "--2024-07-17 06:33:57--  https://dsserver-prod-resources-1.s3.amazonaws.com/cnn/fruits_dataset.tar.gz\n",
            "Resolving dsserver-prod-resources-1.s3.amazonaws.com (dsserver-prod-resources-1.s3.amazonaws.com)... 52.216.169.243, 3.5.31.150, 52.216.154.204, ...\n",
            "Connecting to dsserver-prod-resources-1.s3.amazonaws.com (dsserver-prod-resources-1.s3.amazonaws.com)|52.216.169.243|:443... connected.\n",
            "HTTP request sent, awaiting response... 200 OK\n",
            "Length: 361408056 (345M) [application/x-gzip]\n",
            "Saving to: ‘fruits_dataset.tar.gz.1’\n",
            "\n",
            "fruits_dataset.tar. 100%[===================>] 344.67M  39.0MB/s    in 8.9s    \n",
            "\n",
            "2024-07-17 06:34:07 (38.5 MB/s) - ‘fruits_dataset.tar.gz.1’ saved [361408056/361408056]\n",
            "\n"
          ]
        }
      ],
      "source": [
        "!wget https://dsserver-prod-resources-1.s3.amazonaws.com/cnn/fruits_dataset.tar.gz"
      ]
    },
    {
      "cell_type": "code",
      "source": [
        "import tensorflow as tf\n"
      ],
      "metadata": {
        "id": "c4IhoSfjkRnA"
      },
      "execution_count": 36,
      "outputs": []
    },
    {
      "cell_type": "code",
      "source": [
        "import tarfile\n",
        "\n",
        "def extract_tar_gz(file_path, output_path):\n",
        "    with tarfile.open(file_path, 'r:gz') as tar:\n",
        "        tar.extractall(path=output_path)\n",
        "\n",
        "# Use it like this:\n",
        "extract_tar_gz('/content/fruits_dataset.tar.gz', '/content/')"
      ],
      "metadata": {
        "id": "ogSk3dZ7kYUq"
      },
      "execution_count": 37,
      "outputs": []
    },
    {
      "cell_type": "code",
      "source": [
        "from os import path\n",
        "train_set=tf.keras.utils.image_dataset_from_directory(\n",
        "    'fruits/train',\n",
        "    labels='inferred',\n",
        "    label_mode='categorical',\n",
        "    image_size=(100,100),\n",
        "    batch_size=256,\n",
        "    validation_split=0.25,\n",
        "    subset='training',\n",
        "    seed=417\n",
        ")\n",
        "validation_set=tf.keras.utils.image_dataset_from_directory(\n",
        "    'fruits/train',\n",
        "    labels='inferred',\n",
        "    label_mode='categorical',\n",
        "    image_size=(100,100),\n",
        "    batch_size=256,\n",
        "    validation_split=0.25,\n",
        "    subset='validation',\n",
        "    seed=417\n",
        ")\n",
        "test_set=tf.keras.utils.image_dataset_from_directory(\n",
        "    'fruits/test',\n",
        "    labels='inferred',\n",
        "    label_mode='categorical',\n",
        "    image_size=(100,100),\n",
        "    batch_size=256,\n",
        "    seed=417\n",
        ")"
      ],
      "metadata": {
        "colab": {
          "base_uri": "https://localhost:8080/"
        },
        "id": "nTEix4HukhXy",
        "outputId": "4a13242a-337e-4b80-d72f-133cc4079d32"
      },
      "execution_count": 38,
      "outputs": [
        {
          "output_type": "stream",
          "name": "stdout",
          "text": [
            "Found 67692 files belonging to 131 classes.\n",
            "Using 50769 files for training.\n",
            "Found 67692 files belonging to 131 classes.\n",
            "Using 16923 files for validation.\n",
            "Found 22688 files belonging to 131 classes.\n"
          ]
        }
      ]
    },
    {
      "cell_type": "code",
      "source": [
        "scaler=tf.keras.layers.experimental.preprocessing.Rescaling(1./255)"
      ],
      "metadata": {
        "id": "gMucJiJRmHmJ"
      },
      "execution_count": 39,
      "outputs": []
    },
    {
      "cell_type": "code",
      "source": [
        "train_set_normalised=train_set.map(lambda x,y: (scaler(x),y))\n",
        "validation_set_normalised=validation_set.map(lambda x,y: (scaler(x),y))\n",
        "test_set_normalised=test_set.map(lambda x,y: (scaler(x),y))"
      ],
      "metadata": {
        "id": "Vdbbm95nmu28"
      },
      "execution_count": 40,
      "outputs": []
    },
    {
      "cell_type": "markdown",
      "source": [
        "## Test1\n"
      ],
      "metadata": {
        "id": "byVod5RX91us"
      }
    },
    {
      "cell_type": "code",
      "source": [
        "# from tensorflow.keras import layers\n",
        "\n",
        "# input_layer=layers.Input(shape=(100,100,3))\n",
        "# features_layer=base_model(input_layer, training=False)\n",
        "# global_pooling=layers.GlobalAveragePooling2D()(features_layer)\n",
        "# output=layers.Dense(131)(global_pooling)\n",
        "# model=tf.keras.Model(inputs=input_layer,outputs=output)\n",
        "# model.summary()"
      ],
      "metadata": {
        "id": "YscMf_FPAwCH"
      },
      "execution_count": 41,
      "outputs": []
    },
    {
      "cell_type": "code",
      "source": [
        "# opt=tf.keras.optimizers.SGD()\n",
        "# loss=tf.keras.losses.CategoricalCrossentropy(from_logits=True)\n",
        "# model.compile(optimizer=opt, loss=loss, metrics=['accuracy'])"
      ],
      "metadata": {
        "id": "qAWG3aKgDcLH"
      },
      "execution_count": 42,
      "outputs": []
    },
    {
      "cell_type": "code",
      "source": [
        "# model.fit(train_set_normalised, validation_data=validation_set_normalised, epochs=3)"
      ],
      "metadata": {
        "id": "B8O1xfqCGfM1"
      },
      "execution_count": 43,
      "outputs": []
    },
    {
      "cell_type": "code",
      "source": [
        "# import tensorflow as tf\n",
        "# from tensorflow.keras import layers, applications, optimizers, losses, models\n",
        "\n",
        "# # Load the base model and set it to non-trainable\n",
        "# base_model = applications.ResNet50(weights='imagenet', include_top=False, input_shape=(100, 100, 3))\n",
        "# base_model.trainable = False\n",
        "\n",
        "# # Create the input layer\n",
        "# input_layer = layers.Input(shape=(100, 100, 3))\n",
        "\n",
        "# # Preprocess the input\n",
        "# preprocessed_input_layer = applications.resnet50.preprocess_input(input_layer)\n",
        "\n",
        "# # Create the feature extraction layer\n",
        "# features_layer = base_model(preprocessed_input_layer, training=False)\n",
        "\n",
        "# # Apply global average pooling\n",
        "# global_pooling = layers.GlobalAveragePooling2D()(features_layer)\n",
        "\n",
        "# # Create the output layer\n",
        "# output = layers.Dense(131, activation='softmax')(global_pooling)\n",
        "\n",
        "# # Instantiate the model\n",
        "# model = models.Model(inputs=input_layer, outputs=output)\n",
        "\n",
        "# # Display the model summary to confirm the total parameters\n",
        "# model.summary()\n",
        "\n",
        "# # Instantiate the SGD optimizer\n",
        "# opt = optimizers.SGD(learning_rate=0.001, momentum=0.9)\n",
        "\n",
        "# # Instantiate the loss function\n",
        "# loss = losses.CategoricalCrossentropy()  # without from_logits=True since output layer has softmax activation\n",
        "\n",
        "# # Compile the model\n",
        "# model.compile(optimizer=opt, loss=loss, metrics=['accuracy'])\n",
        "\n",
        "# # Fit the model on the normalized training data for 3 epochs\n",
        "# model.fit(train_set, validation_data=validation_set, epochs=3)\n",
        "\n",
        "# # Evaluate the model on the test set\n",
        "# test_loss, test_acc = model.evaluate(test_set)\n",
        "\n",
        "# # Print the test set accuracy\n",
        "# print(f\"Test set accuracy: {test_acc}\")\n"
      ],
      "metadata": {
        "id": "yrJta-C0KJRr"
      },
      "execution_count": 44,
      "outputs": []
    },
    {
      "cell_type": "code",
      "source": [
        "# import tensorflow as tf\n",
        "# from tensorflow.keras.layers import Input, GlobalAveragePooling2D, Dense\n",
        "# from tensorflow.keras.applications import ResNet50\n",
        "\n",
        "# # Create an input layer\n",
        "# input_layer = Input(shape=(100, 100, 3))\n",
        "\n",
        "# # Preprocess input images\n",
        "# preprocessed_input_layer = tf.keras.applications.resnet50.preprocess_input(input_layer)\n",
        "\n",
        "# # Create ResNet-50 base model\n",
        "# base_model = ResNet50(weights='imagenet', include_top=False, input_tensor=preprocessed_input_layer)\n",
        "\n",
        "# # Add other layers (e.g., GlobalAveragePooling2D, Dense)\n",
        "# global_pooling = GlobalAveragePooling2D()(base_model.output)\n",
        "# num_classes = 131  # Replace with the actual number of classes in your dataset\n",
        "# output = Dense(num_classes, activation='softmax')(global_pooling)\n",
        "\n",
        "# # Create the final model\n",
        "# model = tf.keras.models.Model(inputs=input_layer, outputs=output)\n",
        "\n",
        "# # Compile the model\n",
        "# opt = tf.keras.optimizers.SGD(learning_rate=0.001)  # Adjust learning rate as needed\n",
        "# loss = tf.keras.losses.CategoricalCrossentropy(from_logits=True)  # Use appropriate loss function\n",
        "# model.compile(optimizer=opt, loss=loss, metrics=['accuracy'])\n",
        "\n",
        "# # Fit the model on the normalized training data\n",
        "# model.fit(train_set, epochs=3, validation_data=validation_set)\n",
        "\n",
        "# # Evaluate the model on the test set\n",
        "# test_loss, test_acc = model.evaluate(test_set)\n",
        "# print(f\"Test accuracy: {test_acc:.4f}\")\n"
      ],
      "metadata": {
        "id": "cnwgf2fNPQSf"
      },
      "execution_count": 45,
      "outputs": []
    },
    {
      "cell_type": "code",
      "source": [
        "from tensorflow.keras import applications\n",
        "\n",
        "base_model = applications.resnet50.ResNet50(\n",
        "    include_top=False,\n",
        "    weights='imagenet',\n",
        "    input_shape=(100, 100, 3)\n",
        ")"
      ],
      "metadata": {
        "id": "t4LKYwf2m5yf"
      },
      "execution_count": 46,
      "outputs": []
    },
    {
      "cell_type": "markdown",
      "source": [
        "## Final"
      ],
      "metadata": {
        "id": "mKtsjOMO9844"
      }
    },
    {
      "cell_type": "code",
      "source": [
        "base_model.trainable=False"
      ],
      "metadata": {
        "id": "6HGImCRbqoS-"
      },
      "execution_count": 47,
      "outputs": []
    },
    {
      "cell_type": "code",
      "source": [
        "from tensorflow.keras import layers\n",
        "\n",
        "input_layer = layers.Input(shape=(100, 100, 3))\n",
        "preprocessed_input_layer = applications.resnet50.preprocess_input(input_layer)\n",
        "features_layer = base_model(preprocessed_input_layer, training=False)\n",
        "global_pooling = layers.GlobalAveragePooling2D()(features_layer)\n",
        "output = layers.Dense(131)(global_pooling)  # No activation\n",
        "model = tf.keras.Model(inputs=input_layer, outputs=output)\n",
        "model.summary()\n",
        "\n",
        "# Compile the model with appropriate loss function\n",
        "opt = tf.keras.optimizers.SGD(learning_rate=0.001, momentum=0.9)  # Using momentum\n",
        "loss = tf.keras.losses.CategoricalCrossentropy(from_logits=True)  # from_logits=True since no activation\n",
        "model.compile(optimizer=opt, loss=loss, metrics=['accuracy'])\n",
        "\n"
      ],
      "metadata": {
        "id": "W7V-8gFyG70k",
        "colab": {
          "base_uri": "https://localhost:8080/"
        },
        "outputId": "80632816-1d0f-4751-e613-8e54720e58e7"
      },
      "execution_count": 48,
      "outputs": [
        {
          "output_type": "stream",
          "name": "stdout",
          "text": [
            "Model: \"model_9\"\n",
            "_________________________________________________________________\n",
            " Layer (type)                Output Shape              Param #   \n",
            "=================================================================\n",
            " input_19 (InputLayer)       [(None, 100, 100, 3)]     0         \n",
            "                                                                 \n",
            " tf.__operators__.getitem_9  (None, 100, 100, 3)       0         \n",
            "  (SlicingOpLambda)                                              \n",
            "                                                                 \n",
            " tf.nn.bias_add_9 (TFOpLamb  (None, 100, 100, 3)       0         \n",
            " da)                                                             \n",
            "                                                                 \n",
            " resnet50 (Functional)       (None, 4, 4, 2048)        23587712  \n",
            "                                                                 \n",
            " global_average_pooling2d_9  (None, 2048)              0         \n",
            "  (GlobalAveragePooling2D)                                       \n",
            "                                                                 \n",
            " dense_9 (Dense)             (None, 131)               268419    \n",
            "                                                                 \n",
            "=================================================================\n",
            "Total params: 23856131 (91.00 MB)\n",
            "Trainable params: 268419 (1.02 MB)\n",
            "Non-trainable params: 23587712 (89.98 MB)\n",
            "_________________________________________________________________\n"
          ]
        }
      ]
    },
    {
      "cell_type": "code",
      "source": [
        "model.fit(train_set, validation_data=validation_set, epochs=3)"
      ],
      "metadata": {
        "id": "SYu6ET60Jmhy",
        "colab": {
          "base_uri": "https://localhost:8080/"
        },
        "outputId": "64ddffca-c70d-4fcf-ec77-3d74ba055774"
      },
      "execution_count": 49,
      "outputs": [
        {
          "output_type": "stream",
          "name": "stdout",
          "text": [
            "Epoch 1/3\n",
            "199/199 [==============================] - 63s 301ms/step - loss: 2.1772 - accuracy: 0.6024 - val_loss: 0.7758 - val_accuracy: 0.9075\n",
            "Epoch 2/3\n",
            "199/199 [==============================] - 51s 252ms/step - loss: 0.5299 - accuracy: 0.9475 - val_loss: 0.3906 - val_accuracy: 0.9657\n",
            "Epoch 3/3\n",
            "199/199 [==============================] - 50s 247ms/step - loss: 0.3098 - accuracy: 0.9763 - val_loss: 0.2645 - val_accuracy: 0.9798\n"
          ]
        },
        {
          "output_type": "execute_result",
          "data": {
            "text/plain": [
              "<keras.src.callbacks.History at 0x792c433c4760>"
            ]
          },
          "metadata": {},
          "execution_count": 49
        }
      ]
    },
    {
      "cell_type": "code",
      "source": [
        "test_loss, test_acc=model.evaluate(test_set)\n"
      ],
      "metadata": {
        "id": "EcGESv5yJokv",
        "colab": {
          "base_uri": "https://localhost:8080/"
        },
        "outputId": "549fc4cd-817a-4933-a2bf-07f84fa98f9a"
      },
      "execution_count": 50,
      "outputs": [
        {
          "output_type": "stream",
          "name": "stdout",
          "text": [
            "89/89 [==============================] - 17s 185ms/step - loss: 0.4801 - accuracy: 0.9145\n"
          ]
        }
      ]
    },
    {
      "cell_type": "code",
      "source": [
        "# Re training the model\n",
        "base_model = applications.resnet50.ResNet50(\n",
        "    include_top=False,\n",
        "    weights='imagenet',\n",
        "    input_shape=(100, 100, 3)\n",
        ")\n",
        "\n",
        "base_model.trainable=True\n",
        "\n",
        "input_layer = layers.Input(shape=(100, 100, 3))\n",
        "preprocessed_input_layer = applications.resnet50.preprocess_input(input_layer)\n",
        "features_layer = base_model(preprocessed_input_layer, training=False)\n",
        "global_pooling = layers.GlobalAveragePooling2D()(features_layer)\n",
        "output = layers.Dense(131)(global_pooling)  # No activation\n",
        "model = tf.keras.Model(inputs=input_layer, outputs=output)\n",
        "model.summary()\n",
        "\n",
        "# Compile the model with appropriate loss function\n",
        "opt = tf.keras.optimizers.SGD(learning_rate=0.0001, momentum=0.9)\n",
        "loss = tf.keras.losses.CategoricalCrossentropy(from_logits=True)  # from_logits=True since no activation\n",
        "model.compile(optimizer=opt, loss=loss, metrics=['accuracy'])\n",
        "\n",
        "model.fit(train_set, validation_data=validation_set, epochs=5)"
      ],
      "metadata": {
        "id": "61J-_4sG-Phl",
        "colab": {
          "base_uri": "https://localhost:8080/"
        },
        "outputId": "f22ad040-f0a0-4193-cecf-de6c6894dc52"
      },
      "execution_count": 51,
      "outputs": [
        {
          "output_type": "stream",
          "name": "stdout",
          "text": [
            "Model: \"model_10\"\n",
            "_________________________________________________________________\n",
            " Layer (type)                Output Shape              Param #   \n",
            "=================================================================\n",
            " input_21 (InputLayer)       [(None, 100, 100, 3)]     0         \n",
            "                                                                 \n",
            " tf.__operators__.getitem_1  (None, 100, 100, 3)       0         \n",
            " 0 (SlicingOpLambda)                                             \n",
            "                                                                 \n",
            " tf.nn.bias_add_10 (TFOpLam  (None, 100, 100, 3)       0         \n",
            " bda)                                                            \n",
            "                                                                 \n",
            " resnet50 (Functional)       (None, 4, 4, 2048)        23587712  \n",
            "                                                                 \n",
            " global_average_pooling2d_1  (None, 2048)              0         \n",
            " 0 (GlobalAveragePooling2D)                                      \n",
            "                                                                 \n",
            " dense_10 (Dense)            (None, 131)               268419    \n",
            "                                                                 \n",
            "=================================================================\n",
            "Total params: 23856131 (91.00 MB)\n",
            "Trainable params: 23803011 (90.80 MB)\n",
            "Non-trainable params: 53120 (207.50 KB)\n",
            "_________________________________________________________________\n",
            "Epoch 1/5\n",
            "199/199 [==============================] - 155s 702ms/step - loss: 3.8072 - accuracy: 0.2187 - val_loss: 1.1192 - val_accuracy: 0.7543\n",
            "Epoch 2/5\n",
            "199/199 [==============================] - 139s 697ms/step - loss: 0.2085 - accuracy: 0.9554 - val_loss: 0.0251 - val_accuracy: 0.9975\n",
            "Epoch 3/5\n",
            "199/199 [==============================] - 138s 692ms/step - loss: 0.0107 - accuracy: 0.9995 - val_loss: 0.0086 - val_accuracy: 0.9995\n",
            "Epoch 4/5\n",
            "199/199 [==============================] - 138s 693ms/step - loss: 0.0041 - accuracy: 1.0000 - val_loss: 0.0058 - val_accuracy: 0.9995\n",
            "Epoch 5/5\n",
            "199/199 [==============================] - 138s 693ms/step - loss: 0.0025 - accuracy: 1.0000 - val_loss: 0.0044 - val_accuracy: 0.9996\n"
          ]
        },
        {
          "output_type": "execute_result",
          "data": {
            "text/plain": [
              "<keras.src.callbacks.History at 0x792b84473df0>"
            ]
          },
          "metadata": {},
          "execution_count": 51
        }
      ]
    },
    {
      "cell_type": "code",
      "source": [
        "test_loss, test_acc=model.evaluate(test_set)"
      ],
      "metadata": {
        "colab": {
          "base_uri": "https://localhost:8080/"
        },
        "id": "2QUHvL6aJtRK",
        "outputId": "0a9aa3b0-c519-4746-b269-051dea6b4cca"
      },
      "execution_count": 52,
      "outputs": [
        {
          "output_type": "stream",
          "name": "stdout",
          "text": [
            "89/89 [==============================] - 17s 187ms/step - loss: 0.1805 - accuracy: 0.9583\n"
          ]
        }
      ]
    },
    {
      "cell_type": "markdown",
      "source": [
        "##  Transfer Learning on the Beans Dataset I"
      ],
      "metadata": {
        "id": "0K2XsJgMKAQ_"
      }
    },
    {
      "cell_type": "code",
      "source": [
        "!wget https://dsserver-prod-resources-1.s3.amazonaws.com/cnn/beans_dataset.tar.gz"
      ],
      "metadata": {
        "colab": {
          "base_uri": "https://localhost:8080/"
        },
        "id": "0XlQ8CxxJzmc",
        "outputId": "c9f071d7-9763-46cc-e9b9-55b90995209a"
      },
      "execution_count": 53,
      "outputs": [
        {
          "output_type": "stream",
          "name": "stdout",
          "text": [
            "--2024-07-17 06:51:27--  https://dsserver-prod-resources-1.s3.amazonaws.com/cnn/beans_dataset.tar.gz\n",
            "Resolving dsserver-prod-resources-1.s3.amazonaws.com (dsserver-prod-resources-1.s3.amazonaws.com)... 3.5.27.235, 3.5.29.155, 3.5.29.91, ...\n",
            "Connecting to dsserver-prod-resources-1.s3.amazonaws.com (dsserver-prod-resources-1.s3.amazonaws.com)|3.5.27.235|:443... connected.\n",
            "HTTP request sent, awaiting response... 200 OK\n",
            "Length: 179790562 (171M) [application/x-gzip]\n",
            "Saving to: ‘beans_dataset.tar.gz.1’\n",
            "\n",
            "beans_dataset.tar.g 100%[===================>] 171.46M  39.3MB/s    in 9.0s    \n",
            "\n",
            "2024-07-17 06:51:37 (19.0 MB/s) - ‘beans_dataset.tar.gz.1’ saved [179790562/179790562]\n",
            "\n"
          ]
        }
      ]
    },
    {
      "cell_type": "code",
      "source": [
        "import tarfile\n",
        "\n",
        "def extract_tar_gz(file_path, output_path):\n",
        "    with tarfile.open(file_path, 'r:gz') as tar:\n",
        "        tar.extractall(path=output_path)\n",
        "\n",
        "# Use it like this:\n",
        "extract_tar_gz('/content/beans_dataset.tar.gz', '/content/')"
      ],
      "metadata": {
        "id": "-wPSHyu7Nbe2"
      },
      "execution_count": 54,
      "outputs": []
    },
    {
      "cell_type": "code",
      "source": [
        "from os import path\n",
        "train=tf.keras.utils.image_dataset_from_directory(\n",
        "    'beans/train',\n",
        "    labels='inferred',\n",
        "    label_mode='categorical',\n",
        "    image_size=(100,100),\n",
        "    batch_size=128,\n",
        "    seed=417\n",
        ")\n",
        "val=tf.keras.utils.image_dataset_from_directory(\n",
        "    'beans/validation',\n",
        "    labels='inferred',\n",
        "    label_mode='categorical',\n",
        "    image_size=(100,100),\n",
        "    batch_size=128,\n",
        "    seed=417\n",
        ")\n",
        "test=tf.keras.utils.image_dataset_from_directory(\n",
        "    'beans/test',\n",
        "    labels='inferred',\n",
        "    label_mode='categorical',\n",
        "    image_size=(100,100),\n",
        "    batch_size=128,\n",
        "    seed=417\n",
        ")"
      ],
      "metadata": {
        "colab": {
          "base_uri": "https://localhost:8080/"
        },
        "id": "8iec175LKXe9",
        "outputId": "9e913b7d-fbca-40c2-a52c-3ee85e4c56c8"
      },
      "execution_count": 55,
      "outputs": [
        {
          "output_type": "stream",
          "name": "stdout",
          "text": [
            "Found 1034 files belonging to 3 classes.\n",
            "Found 133 files belonging to 3 classes.\n",
            "Found 128 files belonging to 3 classes.\n"
          ]
        }
      ]
    },
    {
      "cell_type": "code",
      "source": [
        "base_model = applications.resnet50.ResNet50(\n",
        "    include_top=False,\n",
        "    weights='imagenet',\n",
        "    input_shape=(100, 100, 3)\n",
        ")\n",
        "\n",
        "base_model.trainable=False\n",
        "\n",
        "input_layer = layers.Input(shape=(100, 100, 3))\n",
        "preprocessed_input_layer = applications.resnet50.preprocess_input(input_layer)\n",
        "augmentation_layer=layers.RandomFlip('horizontal_and_vertical')\n",
        "features_layer = base_model(preprocessed_input_layer, training=False)\n",
        "global_pooling = layers.GlobalAveragePooling2D()(features_layer)\n",
        "output=layers.Dense(3)(global_pooling)\n",
        "model = tf.keras.Model(inputs=input_layer, outputs=output)\n",
        "model.summary()\n",
        "\n",
        "opt=tf.keras.optimizers.Adam(learning_rate=0.001)\n",
        "loss=tf.keras.losses.CategoricalCrossentropy(from_logits=True)\n",
        "model.compile(optimizer=opt, loss=loss, metrics=['accuracy'])\n",
        "\n",
        "history=model.fit(train, validation_data=val, epochs=20)"
      ],
      "metadata": {
        "colab": {
          "base_uri": "https://localhost:8080/"
        },
        "id": "bkS-qPx8Qg6c",
        "outputId": "a64f6ab8-2ac4-463b-9699-db4a8d439d53"
      },
      "execution_count": 56,
      "outputs": [
        {
          "output_type": "stream",
          "name": "stdout",
          "text": [
            "Model: \"model_11\"\n",
            "_________________________________________________________________\n",
            " Layer (type)                Output Shape              Param #   \n",
            "=================================================================\n",
            " input_23 (InputLayer)       [(None, 100, 100, 3)]     0         \n",
            "                                                                 \n",
            " tf.__operators__.getitem_1  (None, 100, 100, 3)       0         \n",
            " 1 (SlicingOpLambda)                                             \n",
            "                                                                 \n",
            " tf.nn.bias_add_11 (TFOpLam  (None, 100, 100, 3)       0         \n",
            " bda)                                                            \n",
            "                                                                 \n",
            " resnet50 (Functional)       (None, 4, 4, 2048)        23587712  \n",
            "                                                                 \n",
            " global_average_pooling2d_1  (None, 2048)              0         \n",
            " 1 (GlobalAveragePooling2D)                                      \n",
            "                                                                 \n",
            " dense_11 (Dense)            (None, 3)                 6147      \n",
            "                                                                 \n",
            "=================================================================\n",
            "Total params: 23593859 (90.00 MB)\n",
            "Trainable params: 6147 (24.01 KB)\n",
            "Non-trainable params: 23587712 (89.98 MB)\n",
            "_________________________________________________________________\n",
            "Epoch 1/20\n",
            "9/9 [==============================] - 8s 247ms/step - loss: 1.2633 - accuracy: 0.4478 - val_loss: 0.8685 - val_accuracy: 0.5940\n",
            "Epoch 2/20\n",
            "9/9 [==============================] - 3s 132ms/step - loss: 0.7937 - accuracy: 0.6528 - val_loss: 0.7116 - val_accuracy: 0.6992\n",
            "Epoch 3/20\n",
            "9/9 [==============================] - 3s 125ms/step - loss: 0.6274 - accuracy: 0.7389 - val_loss: 0.5776 - val_accuracy: 0.7218\n",
            "Epoch 4/20\n",
            "9/9 [==============================] - 4s 132ms/step - loss: 0.5111 - accuracy: 0.8046 - val_loss: 0.5256 - val_accuracy: 0.7444\n",
            "Epoch 5/20\n",
            "9/9 [==============================] - 3s 130ms/step - loss: 0.4488 - accuracy: 0.8298 - val_loss: 0.5073 - val_accuracy: 0.7744\n",
            "Epoch 6/20\n",
            "9/9 [==============================] - 3s 126ms/step - loss: 0.4028 - accuracy: 0.8491 - val_loss: 0.4660 - val_accuracy: 0.8120\n",
            "Epoch 7/20\n",
            "9/9 [==============================] - 3s 154ms/step - loss: 0.3671 - accuracy: 0.8636 - val_loss: 0.4566 - val_accuracy: 0.8120\n",
            "Epoch 8/20\n",
            "9/9 [==============================] - 4s 131ms/step - loss: 0.3364 - accuracy: 0.8830 - val_loss: 0.4420 - val_accuracy: 0.8195\n",
            "Epoch 9/20\n",
            "9/9 [==============================] - 3s 129ms/step - loss: 0.3129 - accuracy: 0.8907 - val_loss: 0.4409 - val_accuracy: 0.8271\n",
            "Epoch 10/20\n",
            "9/9 [==============================] - 3s 162ms/step - loss: 0.2972 - accuracy: 0.9052 - val_loss: 0.4136 - val_accuracy: 0.8346\n",
            "Epoch 11/20\n",
            "9/9 [==============================] - 4s 133ms/step - loss: 0.2773 - accuracy: 0.9110 - val_loss: 0.4067 - val_accuracy: 0.8421\n",
            "Epoch 12/20\n",
            "9/9 [==============================] - 3s 129ms/step - loss: 0.2674 - accuracy: 0.9130 - val_loss: 0.3893 - val_accuracy: 0.8421\n",
            "Epoch 13/20\n",
            "9/9 [==============================] - 3s 130ms/step - loss: 0.2451 - accuracy: 0.9304 - val_loss: 0.3867 - val_accuracy: 0.8421\n",
            "Epoch 14/20\n",
            "9/9 [==============================] - 3s 167ms/step - loss: 0.2397 - accuracy: 0.9313 - val_loss: 0.3814 - val_accuracy: 0.8346\n",
            "Epoch 15/20\n",
            "9/9 [==============================] - 3s 131ms/step - loss: 0.2251 - accuracy: 0.9362 - val_loss: 0.3788 - val_accuracy: 0.8571\n",
            "Epoch 16/20\n",
            "9/9 [==============================] - 3s 133ms/step - loss: 0.2214 - accuracy: 0.9391 - val_loss: 0.3679 - val_accuracy: 0.8421\n",
            "Epoch 17/20\n",
            "9/9 [==============================] - 4s 143ms/step - loss: 0.2160 - accuracy: 0.9352 - val_loss: 0.3808 - val_accuracy: 0.8421\n",
            "Epoch 18/20\n",
            "9/9 [==============================] - 3s 129ms/step - loss: 0.2056 - accuracy: 0.9420 - val_loss: 0.3729 - val_accuracy: 0.8421\n",
            "Epoch 19/20\n",
            "9/9 [==============================] - 3s 130ms/step - loss: 0.1890 - accuracy: 0.9545 - val_loss: 0.3738 - val_accuracy: 0.8496\n",
            "Epoch 20/20\n",
            "9/9 [==============================] - 3s 132ms/step - loss: 0.1809 - accuracy: 0.9536 - val_loss: 0.3701 - val_accuracy: 0.8496\n"
          ]
        }
      ]
    },
    {
      "cell_type": "code",
      "source": [
        "import matplotlib.pyplot as plt\n",
        "\n",
        "plt.plot(history.history['loss'])\n",
        "plt.plot(history.history['val_loss'])\n",
        "plt.title('Model loss')\n",
        "plt.ylabel('Loss')\n",
        "plt.xlabel('Epoch')\n",
        "plt.legend(['Train', 'Validation'], loc='upper left')\n",
        "plt.show()"
      ],
      "metadata": {
        "colab": {
          "base_uri": "https://localhost:8080/",
          "height": 472
        },
        "id": "1aCopP41T7Qe",
        "outputId": "9d3102c1-c2cf-4637-ef4f-3347e60007ef"
      },
      "execution_count": 57,
      "outputs": [
        {
          "output_type": "display_data",
          "data": {
            "text/plain": [
              "<Figure size 640x480 with 1 Axes>"
            ],
            "image/png": "[encoded data removed]"
          },
          "metadata": {}
        }
      ]
    },
    {
      "cell_type": "code",
      "source": [
        "plt.plot(history.history['accuracy'])\n",
        "plt.plot(history.history['val_accuracy'])\n",
        "plt.title('Model accuracy')\n",
        "plt.ylabel('Accuracy')\n",
        "plt.xlabel('Epoch')\n",
        "plt.legend(['Train', 'Validation'], loc='upper left')\n",
        "plt.show()"
      ],
      "metadata": {
        "colab": {
          "base_uri": "https://localhost:8080/",
          "height": 472
        },
        "id": "5ACBXRZIUmoQ",
        "outputId": "b116d1c4-256c-4771-87c3-18e6b16bc848"
      },
      "execution_count": 58,
      "outputs": [
        {
          "output_type": "display_data",
          "data": {
            "text/plain": [
              "<Figure size 640x480 with 1 Axes>"
            ],
            "image/png": "[encoded data removed]"
          },
          "metadata": {}
        }
      ]
    },
    {
      "cell_type": "code",
      "source": [
        "base_model = applications.resnet50.ResNet50(\n",
        "    include_top=False,\n",
        "    weights='imagenet',\n",
        "    input_shape=(100, 100, 3)\n",
        ")\n",
        "\n",
        "base_model.trainable=True\n",
        "\n",
        "for layer in base_model.layers[:-10]:\n",
        "    layer.trainable = False\n",
        "\n",
        "input_layer = layers.Input(shape=(100, 100, 3))\n",
        "preprocessed_input_layer = applications.resnet50.preprocess_input(input_layer)\n",
        "augmentation_layer=layers.RandomFlip('horizontal_and_vertical')\n",
        "features_layer = base_model(preprocessed_input_layer, training=False)\n",
        "global_pooling = layers.GlobalAveragePooling2D()(features_layer)\n",
        "output=layers.Dense(3)(global_pooling)\n",
        "model = tf.keras.Model(inputs=input_layer, outputs=output)\n",
        "model.summary()\n",
        "\n",
        "opt=tf.keras.optimizers.Adam(learning_rate=0.00001)\n",
        "loss=tf.keras.losses.CategoricalCrossentropy(from_logits=True)\n",
        "model.compile(optimizer=opt, loss=loss, metrics=['accuracy'])\n",
        "\n",
        "model.fit(train, validation_data=val, epochs=5)"
      ],
      "metadata": {
        "colab": {
          "base_uri": "https://localhost:8080/"
        },
        "id": "U6ZiUgCHUq_G",
        "outputId": "d27b66c6-da15-4476-ecd3-6868153556c9"
      },
      "execution_count": 59,
      "outputs": [
        {
          "output_type": "stream",
          "name": "stdout",
          "text": [
            "Model: \"model_12\"\n",
            "_________________________________________________________________\n",
            " Layer (type)                Output Shape              Param #   \n",
            "=================================================================\n",
            " input_25 (InputLayer)       [(None, 100, 100, 3)]     0         \n",
            "                                                                 \n",
            " tf.__operators__.getitem_1  (None, 100, 100, 3)       0         \n",
            " 2 (SlicingOpLambda)                                             \n",
            "                                                                 \n",
            " tf.nn.bias_add_12 (TFOpLam  (None, 100, 100, 3)       0         \n",
            " bda)                                                            \n",
            "                                                                 \n",
            " resnet50 (Functional)       (None, 4, 4, 2048)        23587712  \n",
            "                                                                 \n",
            " global_average_pooling2d_1  (None, 2048)              0         \n",
            " 2 (GlobalAveragePooling2D)                                      \n",
            "                                                                 \n",
            " dense_12 (Dense)            (None, 3)                 6147      \n",
            "                                                                 \n",
            "=================================================================\n",
            "Total params: 23593859 (90.00 MB)\n",
            "Trainable params: 4471811 (17.06 MB)\n",
            "Non-trainable params: 19122048 (72.94 MB)\n",
            "_________________________________________________________________\n",
            "Epoch 1/5\n",
            "9/9 [==============================] - 8s 259ms/step - loss: 1.4633 - accuracy: 0.3114 - val_loss: 1.2383 - val_accuracy: 0.4286\n",
            "Epoch 2/5\n",
            "9/9 [==============================] - 4s 138ms/step - loss: 1.1384 - accuracy: 0.4555 - val_loss: 1.0581 - val_accuracy: 0.5113\n",
            "Epoch 3/5\n",
            "9/9 [==============================] - 3s 146ms/step - loss: 0.9357 - accuracy: 0.5706 - val_loss: 0.9395 - val_accuracy: 0.6015\n",
            "Epoch 4/5\n",
            "9/9 [==============================] - 3s 143ms/step - loss: 0.7997 - accuracy: 0.6518 - val_loss: 0.8476 - val_accuracy: 0.6391\n",
            "Epoch 5/5\n",
            "9/9 [==============================] - 4s 179ms/step - loss: 0.6900 - accuracy: 0.7079 - val_loss: 0.7760 - val_accuracy: 0.6767\n"
          ]
        },
        {
          "output_type": "execute_result",
          "data": {
            "text/plain": [
              "<keras.src.callbacks.History at 0x792c33c09150>"
            ]
          },
          "metadata": {},
          "execution_count": 59
        }
      ]
    },
    {
      "cell_type": "code",
      "source": [
        "test_loss, test_acc=model.evaluate(test)\n"
      ],
      "metadata": {
        "colab": {
          "base_uri": "https://localhost:8080/"
        },
        "id": "gTZvHRFCYFyX",
        "outputId": "bfb53d68-1fe7-4d52-bc37-97a447fdb009"
      },
      "execution_count": 60,
      "outputs": [
        {
          "output_type": "stream",
          "name": "stdout",
          "text": [
            "1/1 [==============================] - 0s 317ms/step - loss: 0.6796 - accuracy: 0.7109\n"
          ]
        }
      ]
    },
    {
      "cell_type": "code",
      "source": [],
      "metadata": {
        "id": "FbG-0eOGYevt"
      },
      "execution_count": 60,
      "outputs": []
    }
  ]
}