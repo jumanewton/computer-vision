{
  "nbformat": 4,
  "nbformat_minor": 0,
  "metadata": {
    "colab": {
      "provenance": [],
      "gpuType": "T4"
    },
    "kernelspec": {
      "name": "python3",
      "display_name": "Python 3"
    },
    "language_info": {
      "name": "python"
    },
    "accelerator": "GPU"
  },
  "cells": [
    {
      "cell_type": "code",
      "execution_count": 1,
      "metadata": {
        "colab": {
          "base_uri": "https://localhost:8080/"
        },
        "id": "DcmgXY4petmf",
        "outputId": "f73dd116-47a0-41ba-bca8-6509dbbdd501"
      },
      "outputs": [
        {
          "output_type": "stream",
          "name": "stdout",
          "text": [
            "--2024-07-15 12:20:21--  https://dsserver-prod-resources-1.s3.amazonaws.com/cnn/fruits_dataset.tar.gz\n",
            "Resolving dsserver-prod-resources-1.s3.amazonaws.com (dsserver-prod-resources-1.s3.amazonaws.com)... 3.5.30.214, 52.216.92.251, 16.182.68.209, ...\n",
            "Connecting to dsserver-prod-resources-1.s3.amazonaws.com (dsserver-prod-resources-1.s3.amazonaws.com)|3.5.30.214|:443... connected.\n",
            "HTTP request sent, awaiting response... 200 OK\n",
            "Length: 361408056 (345M) [application/x-gzip]\n",
            "Saving to: ‘fruits_dataset.tar.gz’\n",
            "\n",
            "fruits_dataset.tar. 100%[===================>] 344.67M  18.1MB/s    in 21s     \n",
            "\n",
            "2024-07-15 12:20:43 (16.4 MB/s) - ‘fruits_dataset.tar.gz’ saved [361408056/361408056]\n",
            "\n"
          ]
        }
      ],
      "source": [
        "!wget https://dsserver-prod-resources-1.s3.amazonaws.com/cnn/fruits_dataset.tar.gz"
      ]
    },
    {
      "cell_type": "code",
      "source": [
        "import tarfile\n",
        "\n",
        "def extract_tar_gz(file_path, output_path):\n",
        "    with tarfile.open(file_path, 'r:gz') as tar:\n",
        "        tar.extractall(path=output_path)\n",
        "\n",
        "# Use it like this:\n",
        "extract_tar_gz('/content/fruits_dataset.tar.gz', '/content/')"
      ],
      "metadata": {
        "id": "ngSTEfdtey69"
      },
      "execution_count": 2,
      "outputs": []
    },
    {
      "cell_type": "code",
      "source": [
        "import tensorflow as tf\n"
      ],
      "metadata": {
        "id": "DyHkPdTTgGIf"
      },
      "execution_count": 3,
      "outputs": []
    },
    {
      "cell_type": "code",
      "source": [
        "train_set = tf.keras.utils.image_dataset_from_directory(\n",
        "        directory='/content/fruits/train',\n",
        "        labels='inferred',\n",
        "        label_mode='categorical',\n",
        "        batch_size=256,\n",
        "        image_size=(100,100),\n",
        "        validation_split=0.25,\n",
        "        subset=\"training\",\n",
        "        seed=417)\n",
        "validation_set = tf.keras.utils.image_dataset_from_directory(\n",
        "        directory='/content/fruits/train',\n",
        "        labels='inferred',\n",
        "        label_mode='categorical',\n",
        "        batch_size=256,\n",
        "        image_size=(100,100),\n",
        "        validation_split=0.25,\n",
        "        subset=\"validation\",\n",
        "        seed=417)\n",
        "test_set =tf.keras.utils.image_dataset_from_directory(\n",
        "        directory='/content/fruits/test',\n",
        "        labels='inferred',\n",
        "        label_mode='categorical',\n",
        "        batch_size=256,\n",
        "        image_size=(100,100),\n",
        "        seed=417)\n"
      ],
      "metadata": {
        "colab": {
          "base_uri": "https://localhost:8080/"
        },
        "id": "vbG_R2NJgRDv",
        "outputId": "01a8a52f-0623-4a8e-fea7-c8271281a6bd"
      },
      "execution_count": 4,
      "outputs": [
        {
          "output_type": "stream",
          "name": "stdout",
          "text": [
            "Found 67692 files belonging to 131 classes.\n",
            "Using 50769 files for training.\n",
            "Found 67692 files belonging to 131 classes.\n",
            "Using 16923 files for validation.\n",
            "Found 22688 files belonging to 131 classes.\n"
          ]
        }
      ]
    },
    {
      "cell_type": "code",
      "source": [
        "%matplotlib inline\n",
        "from tensorflow.keras import layers\n",
        "import matplotlib.pyplot as plt\n"
      ],
      "metadata": {
        "id": "tIgdDGkzlRQd"
      },
      "execution_count": 5,
      "outputs": []
    },
    {
      "cell_type": "code",
      "source": [
        "normalization_layer=tf.keras.layers.Rescaling(scale=1./255)\n",
        "\n",
        "train_set_normalized=train_set.map(lambda imgs,labels: (normalization_layer(imgs),labels))\n",
        "validation_set_normalized=validation_set.map(lambda imgs,labels: (normalization_layer(imgs),labels))\n",
        "test_set_normalized=test_set.map(lambda imgs,labels: (normalization_layer(imgs),labels))\n",
        "\n"
      ],
      "metadata": {
        "id": "XCT-eD8Rnvt5"
      },
      "execution_count": 6,
      "outputs": []
    },
    {
      "cell_type": "code",
      "source": [
        "train_set_elem=train_set_normalized.take(1)\n",
        "\n",
        "for images, labels in train_set_elem:\n",
        "  labels=labels\n",
        "  images=images\n",
        "  im=images.numpy()\n",
        "  break\n",
        "\n"
      ],
      "metadata": {
        "id": "9wjGKKb6pqJG"
      },
      "execution_count": 7,
      "outputs": []
    },
    {
      "cell_type": "code",
      "source": [
        "plt.imshow(im[0])\n",
        "plt.axis('off')\n",
        "plt.show()"
      ],
      "metadata": {
        "colab": {
          "base_uri": "https://localhost:8080/",
          "height": 406
        },
        "id": "Ezf72GLvqYZb",
        "outputId": "4bcdc435-d5a8-42c4-f2a3-576e30895b61"
      },
      "execution_count": 8,
      "outputs": [
        {
          "output_type": "display_data",
          "data": {
            "text/plain": [
              "<Figure size 640x480 with 1 Axes>"
            ],
            "image/png": "[encoded data removed]"
          },
          "metadata": {}
        }
      ]
    },
    {
      "cell_type": "code",
      "source": [
        "plt.imshow(im[1])\n",
        "plt.axis('off')\n",
        "plt.show()"
      ],
      "metadata": {
        "colab": {
          "base_uri": "https://localhost:8080/",
          "height": 406
        },
        "id": "-K5oO4ogrqlE",
        "outputId": "d2a77ecd-7c67-4fcb-8848-373bfda7e35f"
      },
      "execution_count": 9,
      "outputs": [
        {
          "output_type": "display_data",
          "data": {
            "text/plain": [
              "<Figure size 640x480 with 1 Axes>"
            ],
            "image/png": "[encoded data removed]"
          },
          "metadata": {}
        }
      ]
    },
    {
      "cell_type": "code",
      "source": [
        "from tensorflow.keras import initializers\n"
      ],
      "metadata": {
        "id": "_ATUrAwnsDud"
      },
      "execution_count": 10,
      "outputs": []
    },
    {
      "cell_type": "code",
      "source": [
        "weight_initializer=initializers.HeNormal(seed=417)"
      ],
      "metadata": {
        "id": "1RtXrZJ3hvrP"
      },
      "execution_count": 11,
      "outputs": []
    },
    {
      "cell_type": "code",
      "source": [
        "def resnet_block(input_layer, num_filters):\n",
        "  shortcut=input_layer\n",
        "  output=layers.Conv2D(num_filters, (3,3), padding='same', strides=1, kernel_initializer=weight_initializer)(input_layer)\n",
        "  output=layers.BatchNormalization()(output)\n",
        "  output=layers.Activation('relu')(output)\n",
        "  output=layers.Conv2D(num_filters, (3,3), padding='same', strides=1, kernel_initializer=weight_initializer)(output)\n",
        "  output=layers.BatchNormalization()(output)\n",
        "  output=layers.Add()([output,shortcut])\n",
        "  output=layers.Activation('relu')(output)\n",
        "  return output\n"
      ],
      "metadata": {
        "id": "01eA0CydiuzN"
      },
      "execution_count": 12,
      "outputs": []
    },
    {
      "cell_type": "code",
      "source": [
        "from tensorflow.keras import models, Input\n"
      ],
      "metadata": {
        "id": "CHU-CXdPm334"
      },
      "execution_count": 13,
      "outputs": []
    },
    {
      "cell_type": "code",
      "source": [
        "def resnet18(num_classes):\n",
        "  input_layer=Input(shape=(100,100, 3))\n",
        "  conv=layers.Conv2D(64, (7,7), padding='same', strides=2, kernel_initializer=weight_initializer)(input_layer)\n",
        "  conv=layers.BatchNormalization()(conv)\n",
        "  conv=layers.Activation('relu')(conv)\n",
        "  conv=layers.MaxPool2D(pool_size=(3,3), strides=2, padding='same')(conv)\n",
        "  block1=resnet_block(conv, 64)\n",
        "  block2=resnet_block(block1, 64)\n",
        "  global_pooling=layers.GlobalAveragePooling2D()(block2)\n",
        "  output=layers.Dense(num_classes)(global_pooling)\n",
        "  model=models.Model(inputs=input_layer, outputs=output)\n",
        "  return model\n"
      ],
      "metadata": {
        "id": "yzcUvfoHqNOn"
      },
      "execution_count": 14,
      "outputs": []
    },
    {
      "cell_type": "code",
      "source": [
        "model=resnet18(131)\n",
        "model.summary()"
      ],
      "metadata": {
        "colab": {
          "base_uri": "https://localhost:8080/"
        },
        "id": "hf5ChaaVwSK5",
        "outputId": "a741d8c3-06cc-4000-925e-5d376e87b6d4"
      },
      "execution_count": 15,
      "outputs": [
        {
          "output_type": "stream",
          "name": "stdout",
          "text": [
            "Model: \"model\"\n",
            "__________________________________________________________________________________________________\n",
            " Layer (type)                Output Shape                 Param #   Connected to                  \n",
            "==================================================================================================\n",
            " input_1 (InputLayer)        [(None, 100, 100, 3)]        0         []                            \n",
            "                                                                                                  \n",
            " conv2d (Conv2D)             (None, 50, 50, 64)           9472      ['input_1[0][0]']             \n",
            "                                                                                                  \n",
            " batch_normalization (Batch  (None, 50, 50, 64)           256       ['conv2d[0][0]']              \n",
            " Normalization)                                                                                   \n",
            "                                                                                                  \n",
            " activation (Activation)     (None, 50, 50, 64)           0         ['batch_normalization[0][0]'] \n",
            "                                                                                                  \n",
            " max_pooling2d (MaxPooling2  (None, 25, 25, 64)           0         ['activation[0][0]']          \n",
            " D)                                                                                               \n",
            "                                                                                                  \n",
            " conv2d_1 (Conv2D)           (None, 25, 25, 64)           36928     ['max_pooling2d[0][0]']       \n",
            "                                                                                                  \n",
            " batch_normalization_1 (Bat  (None, 25, 25, 64)           256       ['conv2d_1[0][0]']            \n",
            " chNormalization)                                                                                 \n",
            "                                                                                                  \n",
            " activation_1 (Activation)   (None, 25, 25, 64)           0         ['batch_normalization_1[0][0]'\n",
            "                                                                    ]                             \n",
            "                                                                                                  \n",
            " conv2d_2 (Conv2D)           (None, 25, 25, 64)           36928     ['activation_1[0][0]']        \n",
            "                                                                                                  \n",
            " batch_normalization_2 (Bat  (None, 25, 25, 64)           256       ['conv2d_2[0][0]']            \n",
            " chNormalization)                                                                                 \n",
            "                                                                                                  \n",
            " add (Add)                   (None, 25, 25, 64)           0         ['batch_normalization_2[0][0]'\n",
            "                                                                    , 'max_pooling2d[0][0]']      \n",
            "                                                                                                  \n",
            " activation_2 (Activation)   (None, 25, 25, 64)           0         ['add[0][0]']                 \n",
            "                                                                                                  \n",
            " conv2d_3 (Conv2D)           (None, 25, 25, 64)           36928     ['activation_2[0][0]']        \n",
            "                                                                                                  \n",
            " batch_normalization_3 (Bat  (None, 25, 25, 64)           256       ['conv2d_3[0][0]']            \n",
            " chNormalization)                                                                                 \n",
            "                                                                                                  \n",
            " activation_3 (Activation)   (None, 25, 25, 64)           0         ['batch_normalization_3[0][0]'\n",
            "                                                                    ]                             \n",
            "                                                                                                  \n",
            " conv2d_4 (Conv2D)           (None, 25, 25, 64)           36928     ['activation_3[0][0]']        \n",
            "                                                                                                  \n",
            " batch_normalization_4 (Bat  (None, 25, 25, 64)           256       ['conv2d_4[0][0]']            \n",
            " chNormalization)                                                                                 \n",
            "                                                                                                  \n",
            " add_1 (Add)                 (None, 25, 25, 64)           0         ['batch_normalization_4[0][0]'\n",
            "                                                                    , 'activation_2[0][0]']       \n",
            "                                                                                                  \n",
            " activation_4 (Activation)   (None, 25, 25, 64)           0         ['add_1[0][0]']               \n",
            "                                                                                                  \n",
            " global_average_pooling2d (  (None, 64)                   0         ['activation_4[0][0]']        \n",
            " GlobalAveragePooling2D)                                                                          \n",
            "                                                                                                  \n",
            " dense (Dense)               (None, 131)                  8515      ['global_average_pooling2d[0][\n",
            "                                                                    0]']                          \n",
            "                                                                                                  \n",
            "==================================================================================================\n",
            "Total params: 166979 (652.26 KB)\n",
            "Trainable params: 166339 (649.76 KB)\n",
            "Non-trainable params: 640 (2.50 KB)\n",
            "__________________________________________________________________________________________________\n"
          ]
        }
      ]
    },
    {
      "cell_type": "code",
      "source": [
        "# def resnet18(num_classes):\n",
        "#   input_layer=Input(shape=(100,100, 3))\n",
        "#   conv=layers.Conv2D(64, (7,7), padding='same', strides=2, kernel_initializer=weight_initializer)(input_layer)\n",
        "#   conv=layers.BatchNormalization()(conv)\n",
        "#   conv=layers.Activation('relu')(conv)\n",
        "#   conv=layers.MaxPool2D(pool_size=(3,3), strides=2, padding='same')(conv)\n",
        "#   block1=resnet_block(conv, 64)\n",
        "#   block2=resnet_block(block1, 64)\n",
        "#   block3=resnet_block(block2, 128)\n",
        "#   block4=resnet_block(block3, 128)\n",
        "#   global_pooling=layers.GlobalAveragePooling2D()(block4)\n",
        "#   output=layers.Dense(num_classes)(global_pooling)\n",
        "#   model=models.Model(inputs=input_layer, outputs=output)\n",
        "#   return model\n",
        "\n",
        "# model=resnet18(131)\n",
        "# model.summary()"
      ],
      "metadata": {
        "id": "0s2GUHMMxEkN"
      },
      "execution_count": 16,
      "outputs": []
    },
    {
      "cell_type": "code",
      "source": [
        "# # New\n",
        "# def resnet_block(input_layer, num_filters, downsample=False):\n",
        "#   if downsample==True:\n",
        "#     stride=2\n",
        "#     shortcut=layers.Conv2D(num_filters, (1,1), padding='same', strides=stride, kernel_initializer=weight_initializer)(input_layer)\n",
        "#     shortcut=layers.BatchNormalization()(shortcut)\n",
        "#   else:\n",
        "#     stride=1\n",
        "#     shortcut=input_layer\n",
        "#   strides=stride\n",
        "#   output=layers.Conv2D(num_filters, (3,3), padding='same', strides=stride, kernel_initializer=weight_initializer)(input_layer)\n",
        "#   output=layers.BatchNormalization()(output)\n",
        "#   output=layers.Activation('relu')(output)\n",
        "#   output=layers.Conv2D(num_filters, (3,3), padding='same', strides=stride, kernel_initializer=weight_initializer)(output)\n",
        "#   output=layers.BatchNormalization()(output)\n",
        "#   output=layers.Add()([output,shortcut])\n",
        "#   output=layers.Activation('relu')(output)\n",
        "#   return output\n"
      ],
      "metadata": {
        "id": "0lOgYiul7nsl"
      },
      "execution_count": 17,
      "outputs": []
    },
    {
      "cell_type": "code",
      "source": [
        "def resnet_block(input_layer, num_filters, downsample=False):\n",
        "    stride = 2 if downsample else 1\n",
        "\n",
        "    if downsample:\n",
        "        shortcut = layers.Conv2D(num_filters, (1, 1), padding='same', strides=stride, kernel_initializer=weight_initializer)(input_layer)\n",
        "        shortcut = layers.BatchNormalization()(shortcut)\n",
        "    else:\n",
        "        shortcut = input_layer\n",
        "\n",
        "    output = layers.Conv2D(num_filters, (3, 3), padding='same', strides=stride, kernel_initializer=weight_initializer)(input_layer)\n",
        "    output = layers.BatchNormalization()(output)\n",
        "    output = layers.Activation('relu')(output)\n",
        "    output = layers.Conv2D(num_filters, (3, 3), padding='same', strides=1, kernel_initializer=weight_initializer)(output)\n",
        "    output = layers.BatchNormalization()(output)\n",
        "\n",
        "    output = layers.Add()([output, shortcut])\n",
        "    output = layers.Activation('relu')(output)\n",
        "    return output"
      ],
      "metadata": {
        "id": "sKBHsTVGTxz_"
      },
      "execution_count": 18,
      "outputs": []
    },
    {
      "cell_type": "code",
      "source": [
        "def resnet18(num_classes):\n",
        "  input_layer=Input(shape=(100,100, 3))\n",
        "  conv=layers.Conv2D(64, (7,7), padding='same', strides=2, kernel_initializer=weight_initializer)(input_layer)\n",
        "  conv=layers.BatchNormalization()(conv)\n",
        "  conv=layers.Activation('relu')(conv)\n",
        "  conv=layers.MaxPool2D(pool_size=(3,3), strides=2, padding='same')(conv)\n",
        "  block1=resnet_block(conv, 64)\n",
        "  block2=resnet_block(block1, 64)\n",
        "  block3=resnet_block(block2, 128, downsample=True)\n",
        "  block4=resnet_block(block3, 128)\n",
        "  block5=resnet_block(block4, 256, downsample=True)\n",
        "  block6=resnet_block(block5, 256)\n",
        "  block7=resnet_block(block6, 512, downsample=True)\n",
        "  block8=resnet_block(block7, 512)\n",
        "  global_pooling=layers.GlobalAveragePooling2D()(block8)\n",
        "  output=layers.Dense(num_classes)(global_pooling)\n",
        "  model=models.Model(inputs=input_layer, outputs=output)\n",
        "  return model\n",
        "\n",
        "model=resnet18(131)\n",
        "model.summary()"
      ],
      "metadata": {
        "id": "3lQSDkwiC7_r",
        "colab": {
          "base_uri": "https://localhost:8080/"
        },
        "outputId": "e3dab449-75ed-43ba-bd32-ca17b0222227"
      },
      "execution_count": 19,
      "outputs": [
        {
          "output_type": "stream",
          "name": "stdout",
          "text": [
            "Model: \"model_1\"\n",
            "__________________________________________________________________________________________________\n",
            " Layer (type)                Output Shape                 Param #   Connected to                  \n",
            "==================================================================================================\n",
            " input_2 (InputLayer)        [(None, 100, 100, 3)]        0         []                            \n",
            "                                                                                                  \n",
            " conv2d_5 (Conv2D)           (None, 50, 50, 64)           9472      ['input_2[0][0]']             \n",
            "                                                                                                  \n",
            " batch_normalization_5 (Bat  (None, 50, 50, 64)           256       ['conv2d_5[0][0]']            \n",
            " chNormalization)                                                                                 \n",
            "                                                                                                  \n",
            " activation_5 (Activation)   (None, 50, 50, 64)           0         ['batch_normalization_5[0][0]'\n",
            "                                                                    ]                             \n",
            "                                                                                                  \n",
            " max_pooling2d_1 (MaxPoolin  (None, 25, 25, 64)           0         ['activation_5[0][0]']        \n",
            " g2D)                                                                                             \n",
            "                                                                                                  \n",
            " conv2d_6 (Conv2D)           (None, 25, 25, 64)           36928     ['max_pooling2d_1[0][0]']     \n",
            "                                                                                                  \n",
            " batch_normalization_6 (Bat  (None, 25, 25, 64)           256       ['conv2d_6[0][0]']            \n",
            " chNormalization)                                                                                 \n",
            "                                                                                                  \n",
            " activation_6 (Activation)   (None, 25, 25, 64)           0         ['batch_normalization_6[0][0]'\n",
            "                                                                    ]                             \n",
            "                                                                                                  \n",
            " conv2d_7 (Conv2D)           (None, 25, 25, 64)           36928     ['activation_6[0][0]']        \n",
            "                                                                                                  \n",
            " batch_normalization_7 (Bat  (None, 25, 25, 64)           256       ['conv2d_7[0][0]']            \n",
            " chNormalization)                                                                                 \n",
            "                                                                                                  \n",
            " add_2 (Add)                 (None, 25, 25, 64)           0         ['batch_normalization_7[0][0]'\n",
            "                                                                    , 'max_pooling2d_1[0][0]']    \n",
            "                                                                                                  \n",
            " activation_7 (Activation)   (None, 25, 25, 64)           0         ['add_2[0][0]']               \n",
            "                                                                                                  \n",
            " conv2d_8 (Conv2D)           (None, 25, 25, 64)           36928     ['activation_7[0][0]']        \n",
            "                                                                                                  \n",
            " batch_normalization_8 (Bat  (None, 25, 25, 64)           256       ['conv2d_8[0][0]']            \n",
            " chNormalization)                                                                                 \n",
            "                                                                                                  \n",
            " activation_8 (Activation)   (None, 25, 25, 64)           0         ['batch_normalization_8[0][0]'\n",
            "                                                                    ]                             \n",
            "                                                                                                  \n",
            " conv2d_9 (Conv2D)           (None, 25, 25, 64)           36928     ['activation_8[0][0]']        \n",
            "                                                                                                  \n",
            " batch_normalization_9 (Bat  (None, 25, 25, 64)           256       ['conv2d_9[0][0]']            \n",
            " chNormalization)                                                                                 \n",
            "                                                                                                  \n",
            " add_3 (Add)                 (None, 25, 25, 64)           0         ['batch_normalization_9[0][0]'\n",
            "                                                                    , 'activation_7[0][0]']       \n",
            "                                                                                                  \n",
            " activation_9 (Activation)   (None, 25, 25, 64)           0         ['add_3[0][0]']               \n",
            "                                                                                                  \n",
            " conv2d_11 (Conv2D)          (None, 13, 13, 128)          73856     ['activation_9[0][0]']        \n",
            "                                                                                                  \n",
            " batch_normalization_11 (Ba  (None, 13, 13, 128)          512       ['conv2d_11[0][0]']           \n",
            " tchNormalization)                                                                                \n",
            "                                                                                                  \n",
            " activation_10 (Activation)  (None, 13, 13, 128)          0         ['batch_normalization_11[0][0]\n",
            "                                                                    ']                            \n",
            "                                                                                                  \n",
            " conv2d_12 (Conv2D)          (None, 13, 13, 128)          147584    ['activation_10[0][0]']       \n",
            "                                                                                                  \n",
            " conv2d_10 (Conv2D)          (None, 13, 13, 128)          8320      ['activation_9[0][0]']        \n",
            "                                                                                                  \n",
            " batch_normalization_12 (Ba  (None, 13, 13, 128)          512       ['conv2d_12[0][0]']           \n",
            " tchNormalization)                                                                                \n",
            "                                                                                                  \n",
            " batch_normalization_10 (Ba  (None, 13, 13, 128)          512       ['conv2d_10[0][0]']           \n",
            " tchNormalization)                                                                                \n",
            "                                                                                                  \n",
            " add_4 (Add)                 (None, 13, 13, 128)          0         ['batch_normalization_12[0][0]\n",
            "                                                                    ',                            \n",
            "                                                                     'batch_normalization_10[0][0]\n",
            "                                                                    ']                            \n",
            "                                                                                                  \n",
            " activation_11 (Activation)  (None, 13, 13, 128)          0         ['add_4[0][0]']               \n",
            "                                                                                                  \n",
            " conv2d_13 (Conv2D)          (None, 13, 13, 128)          147584    ['activation_11[0][0]']       \n",
            "                                                                                                  \n",
            " batch_normalization_13 (Ba  (None, 13, 13, 128)          512       ['conv2d_13[0][0]']           \n",
            " tchNormalization)                                                                                \n",
            "                                                                                                  \n",
            " activation_12 (Activation)  (None, 13, 13, 128)          0         ['batch_normalization_13[0][0]\n",
            "                                                                    ']                            \n",
            "                                                                                                  \n",
            " conv2d_14 (Conv2D)          (None, 13, 13, 128)          147584    ['activation_12[0][0]']       \n",
            "                                                                                                  \n",
            " batch_normalization_14 (Ba  (None, 13, 13, 128)          512       ['conv2d_14[0][0]']           \n",
            " tchNormalization)                                                                                \n",
            "                                                                                                  \n",
            " add_5 (Add)                 (None, 13, 13, 128)          0         ['batch_normalization_14[0][0]\n",
            "                                                                    ',                            \n",
            "                                                                     'activation_11[0][0]']       \n",
            "                                                                                                  \n",
            " activation_13 (Activation)  (None, 13, 13, 128)          0         ['add_5[0][0]']               \n",
            "                                                                                                  \n",
            " conv2d_16 (Conv2D)          (None, 7, 7, 256)            295168    ['activation_13[0][0]']       \n",
            "                                                                                                  \n",
            " batch_normalization_16 (Ba  (None, 7, 7, 256)            1024      ['conv2d_16[0][0]']           \n",
            " tchNormalization)                                                                                \n",
            "                                                                                                  \n",
            " activation_14 (Activation)  (None, 7, 7, 256)            0         ['batch_normalization_16[0][0]\n",
            "                                                                    ']                            \n",
            "                                                                                                  \n",
            " conv2d_17 (Conv2D)          (None, 7, 7, 256)            590080    ['activation_14[0][0]']       \n",
            "                                                                                                  \n",
            " conv2d_15 (Conv2D)          (None, 7, 7, 256)            33024     ['activation_13[0][0]']       \n",
            "                                                                                                  \n",
            " batch_normalization_17 (Ba  (None, 7, 7, 256)            1024      ['conv2d_17[0][0]']           \n",
            " tchNormalization)                                                                                \n",
            "                                                                                                  \n",
            " batch_normalization_15 (Ba  (None, 7, 7, 256)            1024      ['conv2d_15[0][0]']           \n",
            " tchNormalization)                                                                                \n",
            "                                                                                                  \n",
            " add_6 (Add)                 (None, 7, 7, 256)            0         ['batch_normalization_17[0][0]\n",
            "                                                                    ',                            \n",
            "                                                                     'batch_normalization_15[0][0]\n",
            "                                                                    ']                            \n",
            "                                                                                                  \n",
            " activation_15 (Activation)  (None, 7, 7, 256)            0         ['add_6[0][0]']               \n",
            "                                                                                                  \n",
            " conv2d_18 (Conv2D)          (None, 7, 7, 256)            590080    ['activation_15[0][0]']       \n",
            "                                                                                                  \n",
            " batch_normalization_18 (Ba  (None, 7, 7, 256)            1024      ['conv2d_18[0][0]']           \n",
            " tchNormalization)                                                                                \n",
            "                                                                                                  \n",
            " activation_16 (Activation)  (None, 7, 7, 256)            0         ['batch_normalization_18[0][0]\n",
            "                                                                    ']                            \n",
            "                                                                                                  \n",
            " conv2d_19 (Conv2D)          (None, 7, 7, 256)            590080    ['activation_16[0][0]']       \n",
            "                                                                                                  \n",
            " batch_normalization_19 (Ba  (None, 7, 7, 256)            1024      ['conv2d_19[0][0]']           \n",
            " tchNormalization)                                                                                \n",
            "                                                                                                  \n",
            " add_7 (Add)                 (None, 7, 7, 256)            0         ['batch_normalization_19[0][0]\n",
            "                                                                    ',                            \n",
            "                                                                     'activation_15[0][0]']       \n",
            "                                                                                                  \n",
            " activation_17 (Activation)  (None, 7, 7, 256)            0         ['add_7[0][0]']               \n",
            "                                                                                                  \n",
            " conv2d_21 (Conv2D)          (None, 4, 4, 512)            1180160   ['activation_17[0][0]']       \n",
            "                                                                                                  \n",
            " batch_normalization_21 (Ba  (None, 4, 4, 512)            2048      ['conv2d_21[0][0]']           \n",
            " tchNormalization)                                                                                \n",
            "                                                                                                  \n",
            " activation_18 (Activation)  (None, 4, 4, 512)            0         ['batch_normalization_21[0][0]\n",
            "                                                                    ']                            \n",
            "                                                                                                  \n",
            " conv2d_22 (Conv2D)          (None, 4, 4, 512)            2359808   ['activation_18[0][0]']       \n",
            "                                                                                                  \n",
            " conv2d_20 (Conv2D)          (None, 4, 4, 512)            131584    ['activation_17[0][0]']       \n",
            "                                                                                                  \n",
            " batch_normalization_22 (Ba  (None, 4, 4, 512)            2048      ['conv2d_22[0][0]']           \n",
            " tchNormalization)                                                                                \n",
            "                                                                                                  \n",
            " batch_normalization_20 (Ba  (None, 4, 4, 512)            2048      ['conv2d_20[0][0]']           \n",
            " tchNormalization)                                                                                \n",
            "                                                                                                  \n",
            " add_8 (Add)                 (None, 4, 4, 512)            0         ['batch_normalization_22[0][0]\n",
            "                                                                    ',                            \n",
            "                                                                     'batch_normalization_20[0][0]\n",
            "                                                                    ']                            \n",
            "                                                                                                  \n",
            " activation_19 (Activation)  (None, 4, 4, 512)            0         ['add_8[0][0]']               \n",
            "                                                                                                  \n",
            " conv2d_23 (Conv2D)          (None, 4, 4, 512)            2359808   ['activation_19[0][0]']       \n",
            "                                                                                                  \n",
            " batch_normalization_23 (Ba  (None, 4, 4, 512)            2048      ['conv2d_23[0][0]']           \n",
            " tchNormalization)                                                                                \n",
            "                                                                                                  \n",
            " activation_20 (Activation)  (None, 4, 4, 512)            0         ['batch_normalization_23[0][0]\n",
            "                                                                    ']                            \n",
            "                                                                                                  \n",
            " conv2d_24 (Conv2D)          (None, 4, 4, 512)            2359808   ['activation_20[0][0]']       \n",
            "                                                                                                  \n",
            " batch_normalization_24 (Ba  (None, 4, 4, 512)            2048      ['conv2d_24[0][0]']           \n",
            " tchNormalization)                                                                                \n",
            "                                                                                                  \n",
            " add_9 (Add)                 (None, 4, 4, 512)            0         ['batch_normalization_24[0][0]\n",
            "                                                                    ',                            \n",
            "                                                                     'activation_19[0][0]']       \n",
            "                                                                                                  \n",
            " activation_21 (Activation)  (None, 4, 4, 512)            0         ['add_9[0][0]']               \n",
            "                                                                                                  \n",
            " global_average_pooling2d_1  (None, 512)                  0         ['activation_21[0][0]']       \n",
            "  (GlobalAveragePooling2D)                                                                        \n",
            "                                                                                                  \n",
            " dense_1 (Dense)             (None, 131)                  67203     ['global_average_pooling2d_1[0\n",
            "                                                                    ][0]']                        \n",
            "                                                                                                  \n",
            "==================================================================================================\n",
            "Total params: 11258115 (42.95 MB)\n",
            "Trainable params: 11248515 (42.91 MB)\n",
            "Non-trainable params: 9600 (37.50 KB)\n",
            "__________________________________________________________________________________________________\n"
          ]
        }
      ]
    },
    {
      "cell_type": "code",
      "source": [
        "opt=tf.keras.optimizers.SGD(learning_rate=0.001)\n",
        "loss=tf.keras.losses.CategoricalCrossentropy(from_logits=True)\n",
        "model.compile(optimizer=opt, loss=loss, metrics=['accuracy'])\n"
      ],
      "metadata": {
        "id": "cGalfEMTTblW"
      },
      "execution_count": 20,
      "outputs": []
    },
    {
      "cell_type": "markdown",
      "source": [],
      "metadata": {
        "id": "VhavTiU3ba70"
      }
    },
    {
      "cell_type": "code",
      "source": [
        "model.fit(train_set_normalized, validation_data=validation_set_normalized, epochs=5)"
      ],
      "metadata": {
        "colab": {
          "base_uri": "https://localhost:8080/"
        },
        "id": "r6FWEuxoVWTq",
        "outputId": "0c923510-cb48-4f10-e2a3-1b6c288d40fe"
      },
      "execution_count": 27,
      "outputs": [
        {
          "output_type": "stream",
          "name": "stdout",
          "text": [
            "Epoch 1/5\n",
            "199/199 [==============================] - 57s 283ms/step - loss: 0.9181 - accuracy: 0.9387 - val_loss: 0.8598 - val_accuracy: 0.9421\n",
            "Epoch 2/5\n",
            "199/199 [==============================] - 49s 247ms/step - loss: 0.8347 - accuracy: 0.9459 - val_loss: 0.7828 - val_accuracy: 0.9485\n",
            "Epoch 3/5\n",
            "199/199 [==============================] - 51s 252ms/step - loss: 0.7626 - accuracy: 0.9520 - val_loss: 0.7156 - val_accuracy: 0.9541\n",
            "Epoch 4/5\n",
            "199/199 [==============================] - 56s 279ms/step - loss: 0.6973 - accuracy: 0.9574 - val_loss: 0.6568 - val_accuracy: 0.9583\n",
            "Epoch 5/5\n",
            "199/199 [==============================] - 49s 246ms/step - loss: 0.6401 - accuracy: 0.9618 - val_loss: 0.6016 - val_accuracy: 0.9620\n"
          ]
        },
        {
          "output_type": "execute_result",
          "data": {
            "text/plain": [
              "<keras.src.callbacks.History at 0x788f4cd9bbb0>"
            ]
          },
          "metadata": {},
          "execution_count": 27
        }
      ]
    },
    {
      "cell_type": "code",
      "source": [
        "test_loss, test_acc=model.evaluate(test_set_normalized)\n"
      ],
      "metadata": {
        "colab": {
          "base_uri": "https://localhost:8080/"
        },
        "id": "pY4NsltbVkDB",
        "outputId": "a0b03a8f-18bd-4a03-9c88-1d404dd01fca"
      },
      "execution_count": 29,
      "outputs": [
        {
          "output_type": "stream",
          "name": "stdout",
          "text": [
            "89/89 [==============================] - 7s 79ms/step - loss: 0.9517 - accuracy: 0.8684\n"
          ]
        }
      ]
    },
    {
      "cell_type": "code",
      "source": [],
      "metadata": {
        "id": "ylJQwHwFVpTB"
      },
      "execution_count": null,
      "outputs": []
    }
  ]
}